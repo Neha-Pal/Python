{
  "nbformat": 4,
  "nbformat_minor": 0,
  "metadata": {
    "colab": {
      "provenance": [],
      "authorship_tag": "ABX9TyOD2Ug1IBtLmnO7rvN2+IAw",
      "include_colab_link": true
    },
    "kernelspec": {
      "name": "python3",
      "display_name": "Python 3"
    },
    "language_info": {
      "name": "python"
    }
  },
  "cells": [
    {
      "cell_type": "markdown",
      "metadata": {
        "id": "view-in-github",
        "colab_type": "text"
      },
      "source": [
        "<a href=\"https://colab.research.google.com/github/Neha-Pal/Python/blob/main/Numpy.ipynb\" target=\"_parent\"><img src=\"https://colab.research.google.com/assets/colab-badge.svg\" alt=\"Open In Colab\"/></a>"
      ]
    },
    {
      "cell_type": "markdown",
      "source": [
        "## **Array Creation**"
      ],
      "metadata": {
        "id": "5vc5-IDcD3aB"
      }
    },
    {
      "cell_type": "code",
      "source": [
        "import numpy as np\n",
        "array=np.array([1,2,3,4,5])\n",
        "print(array)\n",
        "print(type(array))"
      ],
      "metadata": {
        "colab": {
          "base_uri": "https://localhost:8080/"
        },
        "id": "UqfUmjg2EA_f",
        "outputId": "2fdc5bc5-324e-4ff8-a763-7b628d352668"
      },
      "execution_count": null,
      "outputs": [
        {
          "output_type": "stream",
          "name": "stdout",
          "text": [
            "[1 2 3 4 5]\n",
            "<class 'numpy.ndarray'>\n"
          ]
        }
      ]
    },
    {
      "cell_type": "markdown",
      "source": [
        "# **Create 2D & 3D array**"
      ],
      "metadata": {
        "id": "2M0RhDYFFljo"
      }
    },
    {
      "cell_type": "code",
      "source": [
        "arr_2=np.array([[2,3,4],[5,6,7]])\n",
        "arr_3=np.array([[[67,2,45],[78,90,44]],[[45,33,21],[2,34,55]]])\n",
        "print('2D array:',arr_2)\n",
        "print('3D array:\\n',arr_3)"
      ],
      "metadata": {
        "colab": {
          "base_uri": "https://localhost:8080/"
        },
        "id": "b5dCyz9XFqe8",
        "outputId": "10d553f0-8d5c-437b-b697-bdfbccb4ddd6"
      },
      "execution_count": null,
      "outputs": [
        {
          "output_type": "stream",
          "name": "stdout",
          "text": [
            "2D array: [[2 3 4]\n",
            " [5 6 7]]\n",
            "3D array:\n",
            " [[[67  2 45]\n",
            "  [78 90 44]]\n",
            "\n",
            " [[45 33 21]\n",
            "  [ 2 34 55]]]\n"
          ]
        }
      ]
    },
    {
      "cell_type": "code",
      "source": [
        "#check dimensions\n",
        "print(arr_2.ndim)\n",
        "print(arr_3.ndim)"
      ],
      "metadata": {
        "colab": {
          "base_uri": "https://localhost:8080/"
        },
        "id": "AZdOtdFrGqUm",
        "outputId": "4b733bc7-d101-44bb-8420-52f3dd7936ae"
      },
      "execution_count": null,
      "outputs": [
        {
          "output_type": "stream",
          "name": "stdout",
          "text": [
            "2\n",
            "3\n"
          ]
        }
      ]
    },
    {
      "cell_type": "markdown",
      "source": [
        "# Array **Indexing**"
      ],
      "metadata": {
        "id": "GON4s_J2HjAg"
      }
    },
    {
      "cell_type": "code",
      "source": [
        "arr=np.array([2,3,4])\n",
        "print('2nd element of the array:',arr[1])"
      ],
      "metadata": {
        "colab": {
          "base_uri": "https://localhost:8080/"
        },
        "id": "K4ZJfDPgHlRK",
        "outputId": "d71c6bc4-6855-4387-e1c8-754a5ec2cc27"
      },
      "execution_count": null,
      "outputs": [
        {
          "output_type": "stream",
          "name": "stdout",
          "text": [
            "2nd element of the array: 3\n"
          ]
        }
      ]
    },
    {
      "cell_type": "code",
      "source": [
        "ar=np.array([[23,4,56,77],[33,44,55,66]])\n",
        "print('2nd element of 1st row:',ar[0,1])\n",
        "print('3rd element of 2nd row:',ar[1,2])"
      ],
      "metadata": {
        "colab": {
          "base_uri": "https://localhost:8080/"
        },
        "id": "PXj8ocpcH8a-",
        "outputId": "ca0bce57-5f5a-4962-bde5-1ebc4e72076b"
      },
      "execution_count": null,
      "outputs": [
        {
          "output_type": "stream",
          "name": "stdout",
          "text": [
            "2nd element of 1st row: 4\n",
            "3rd element of 2nd row: 55\n"
          ]
        }
      ]
    },
    {
      "cell_type": "markdown",
      "source": [
        "# Negative ***Indexing***"
      ],
      "metadata": {
        "id": "RmIOO7GOIqSr"
      }
    },
    {
      "cell_type": "code",
      "source": [
        "an=np.array([[3,4,6,6],[5,44,3,2]])\n",
        "print('2nd last element of 2nd row:',an[1,-2])"
      ],
      "metadata": {
        "colab": {
          "base_uri": "https://localhost:8080/"
        },
        "id": "JFEoUldpIpLa",
        "outputId": "1bc3a218-0696-4ae1-bce4-9a7a599967d1"
      },
      "execution_count": null,
      "outputs": [
        {
          "output_type": "stream",
          "name": "stdout",
          "text": [
            "2nd last element of 2nd row: 3\n"
          ]
        }
      ]
    },
    {
      "cell_type": "markdown",
      "source": [
        "# Array **Slicing**"
      ],
      "metadata": {
        "id": "EXz15L1YJbqe"
      }
    },
    {
      "cell_type": "code",
      "source": [
        "as_1=np.array([1,2,3,4,5,5,6])\n",
        "as_2=np.array([[33,44,5,23,21],[3,4,22,11,23]])\n",
        "print('index 2nd to 5th:',as_1[1:4])\n",
        "print('2d array slicing:\\n',as_2[0:2, 1:4])"
      ],
      "metadata": {
        "colab": {
          "base_uri": "https://localhost:8080/"
        },
        "id": "W22d_l9qJV9p",
        "outputId": "a0ad40dc-473d-47b6-ed59-e5821fd10ee7"
      },
      "execution_count": null,
      "outputs": [
        {
          "output_type": "stream",
          "name": "stdout",
          "text": [
            "index 2nd to 5th: [2 3 4]\n",
            "2d array slicing:\n",
            " [[44  5 23]\n",
            " [ 4 22 11]]\n"
          ]
        }
      ]
    },
    {
      "cell_type": "markdown",
      "source": [
        "# Change Datatypes of an **array**"
      ],
      "metadata": {
        "id": "eVKxintSMCx4"
      }
    },
    {
      "cell_type": "code",
      "source": [
        "new_arr=as_1.astype(bool)\n",
        "new_ar=as_1.astype(float)\n",
        "print(new_arr,'\\n',new_ar)"
      ],
      "metadata": {
        "colab": {
          "base_uri": "https://localhost:8080/"
        },
        "id": "dAsamPsFJZLK",
        "outputId": "711bd258-4f8f-4514-9f5a-763d3e136744"
      },
      "execution_count": null,
      "outputs": [
        {
          "output_type": "stream",
          "name": "stdout",
          "text": [
            "[ True  True  True  True  True  True  True] \n",
            " [1. 2. 3. 4. 5. 5. 6.]\n"
          ]
        }
      ]
    },
    {
      "cell_type": "markdown",
      "source": [
        "# Shape of a **Array**"
      ],
      "metadata": {
        "id": "eEQt_sJ4NR13"
      }
    },
    {
      "cell_type": "code",
      "source": [
        "print('Shape of Array:',as_2.shape)"
      ],
      "metadata": {
        "colab": {
          "base_uri": "https://localhost:8080/"
        },
        "id": "RW7VZIu8NUEw",
        "outputId": "81d7a165-6671-495e-c9c0-eeef29832ac0"
      },
      "execution_count": null,
      "outputs": [
        {
          "output_type": "stream",
          "name": "stdout",
          "text": [
            "Shape of Array: (2, 5)\n"
          ]
        }
      ]
    },
    {
      "cell_type": "markdown",
      "source": [
        "# **Array Reshape**"
      ],
      "metadata": {
        "id": "p0zjiaNvNoFb"
      }
    },
    {
      "cell_type": "code",
      "source": [
        "my_array=np.array([2,3,4,5,6,7])\n",
        "re_arr=my_array.reshape(2,3)\n",
        "print('new array:\\n',re_arr)\n",
        "print('check array:',re_arr.base)"
      ],
      "metadata": {
        "colab": {
          "base_uri": "https://localhost:8080/"
        },
        "id": "T3BlwLTrNqmv",
        "outputId": "20262581-2920-4bec-8e86-d5c3be837ae6"
      },
      "execution_count": null,
      "outputs": [
        {
          "output_type": "stream",
          "name": "stdout",
          "text": [
            "new array:\n",
            " [[2 3 4]\n",
            " [5 6 7]]\n",
            "check array: [2 3 4 5 6 7]\n"
          ]
        }
      ]
    },
    {
      "cell_type": "markdown",
      "source": [
        "# Iterating **Arrays**"
      ],
      "metadata": {
        "id": "E3rRPHwUO-Cg"
      }
    },
    {
      "cell_type": "code",
      "source": [
        "arr_i=np.array([2,3,4,6,78,9,0])\n",
        "arr_i_2=np.array([[2,3,4,56,6],[44,5,6,7,78]])\n",
        "arr_i_3=np.array([[[1, 2, 3], [4, 5, 6]], [[7, 8, 9], [10, 11, 12]]])\n",
        "\n",
        "print('Check each element of 1D array:\\n')\n",
        "for x in arr_i:\n",
        "  print(x)\n",
        "\n",
        "print('Check each element of 2D array:\\n')\n",
        "for x in arr_i_2:\n",
        "  for y in x:\n",
        "    print(y)\n",
        "\n",
        "print('Check each element of 3D array:\\n')\n",
        "for x in arr_i_3:\n",
        "  for y in x:\n",
        "    for z in y:\n",
        "      print(z)\n",
        "\n"
      ],
      "metadata": {
        "colab": {
          "base_uri": "https://localhost:8080/"
        },
        "id": "DVRGT_SQNm8H",
        "outputId": "52fd35a6-4146-4c39-8f1e-3a62720186e6"
      },
      "execution_count": null,
      "outputs": [
        {
          "output_type": "stream",
          "name": "stdout",
          "text": [
            "Check each element of 1D array:\n",
            "\n",
            "2\n",
            "3\n",
            "4\n",
            "6\n",
            "78\n",
            "9\n",
            "0\n",
            "Check each element of 2D array:\n",
            "\n",
            "2\n",
            "3\n",
            "4\n",
            "56\n",
            "6\n",
            "44\n",
            "5\n",
            "6\n",
            "7\n",
            "78\n",
            "Check each element of 3D array:\n",
            "\n",
            "1\n",
            "2\n",
            "3\n",
            "4\n",
            "5\n",
            "6\n",
            "7\n",
            "8\n",
            "9\n",
            "10\n",
            "11\n",
            "12\n"
          ]
        }
      ]
    },
    {
      "cell_type": "markdown",
      "source": [
        "# Array **Joining**"
      ],
      "metadata": {
        "id": "c3aHM8TASBdU"
      }
    },
    {
      "cell_type": "code",
      "source": [
        "#1D\n",
        "a1=np.array([1,2,3,4])\n",
        "a2=np.array([2,4,5,6])\n",
        "print('concatenate 2D array:')\n",
        "a_c_1=np.concatenate((a1,a2))\n",
        "print(a_c_1)\n",
        "\n",
        "#2D\n",
        "a3=np.array([[9,0,8],[8,5,3]])\n",
        "a4=np.array([[8,0,7],[9,0,7]])\n",
        "print('concatenate 2D array:')\n",
        "a_c_2=np.concatenate((a3,a4),axis=1)\n",
        "print(a_c_2)\n",
        "\n",
        "#along column\n",
        "print('concatenate 2D array along column:')\n",
        "a_c_3=np.vstack((a3,a4))\n",
        "print(a_c_3)"
      ],
      "metadata": {
        "colab": {
          "base_uri": "https://localhost:8080/"
        },
        "id": "uDo4eL5jSDcd",
        "outputId": "13454ced-a935-41e2-bbf6-3a6120699674"
      },
      "execution_count": null,
      "outputs": [
        {
          "output_type": "stream",
          "name": "stdout",
          "text": [
            "concatenate 2D array:\n",
            "[1 2 3 4 2 4 5 6]\n",
            "concatenate 2D array:\n",
            "[[9 0 8 8 0 7]\n",
            " [8 5 3 9 0 7]]\n",
            "concatenate 2D array along column:\n",
            "[[9 0 8]\n",
            " [8 5 3]\n",
            " [8 0 7]\n",
            " [9 0 7]]\n"
          ]
        }
      ]
    },
    {
      "cell_type": "markdown",
      "source": [
        "# Split **Array**"
      ],
      "metadata": {
        "id": "t6E664R0qIp3"
      }
    },
    {
      "cell_type": "code",
      "source": [
        "a6=np.array_split(a_c_3,3)\n",
        "print(a6)"
      ],
      "metadata": {
        "colab": {
          "base_uri": "https://localhost:8080/"
        },
        "id": "SUbaXwlYqLv4",
        "outputId": "93af7772-6097-4fe9-a5a9-c2540aad8271"
      },
      "execution_count": null,
      "outputs": [
        {
          "output_type": "stream",
          "name": "stdout",
          "text": [
            "[array([[9, 0, 8],\n",
            "       [8, 5, 3]]), array([[8, 0, 7]]), array([[9, 0, 7]])]\n"
          ]
        }
      ]
    },
    {
      "cell_type": "markdown",
      "source": [
        "# Searching in **Array**"
      ],
      "metadata": {
        "id": "szZ8rO-nrPnM"
      }
    },
    {
      "cell_type": "code",
      "source": [
        "search=np.array([1,2,3,4,5,6,60])\n",
        "x=np.where(search%2==0)\n",
        "print(x)\n",
        "y=np.where(search==6)\n",
        "print(y)"
      ],
      "metadata": {
        "colab": {
          "base_uri": "https://localhost:8080/"
        },
        "id": "4PcAA8jBrPMO",
        "outputId": "9d0b398a-493a-4a3b-ab2f-e8ac4744266a"
      },
      "execution_count": null,
      "outputs": [
        {
          "output_type": "stream",
          "name": "stdout",
          "text": [
            "(array([1, 3, 5, 6]),)\n",
            "(array([5]),)\n"
          ]
        }
      ]
    },
    {
      "cell_type": "markdown",
      "source": [
        "# Sorting **Arrays**"
      ],
      "metadata": {
        "id": "7ZSzz-FMs1-1"
      }
    },
    {
      "cell_type": "code",
      "source": [
        "#sorting by alphabet\n",
        "alpha=np.array(['apple','banana','mango','jackfruit','lemon','orange'])\n",
        "number=np.array([[2,3,4,5,1],[44,3,77,2,90]])\n",
        "print(np.sort(alpha))\n",
        "print(np.sort(number))"
      ],
      "metadata": {
        "colab": {
          "base_uri": "https://localhost:8080/"
        },
        "id": "1B0VJRPLs4Uz",
        "outputId": "faa876f4-5760-4356-8713-6b7baaa0fc72"
      },
      "execution_count": null,
      "outputs": [
        {
          "output_type": "stream",
          "name": "stdout",
          "text": [
            "['apple' 'banana' 'jackfruit' 'lemon' 'mango' 'orange']\n",
            "[[ 1  2  3  4  5]\n",
            " [ 2  3 44 77 90]]\n"
          ]
        }
      ]
    },
    {
      "cell_type": "markdown",
      "source": [
        "# **Filter** Arrays\n",
        "\n",
        "# Create a filter array that will return only even elements from the original array"
      ],
      "metadata": {
        "id": "DTYh5mR_ubJJ"
      }
    },
    {
      "cell_type": "code",
      "source": [
        "f_arr=np.array([56,33,90,78,99,67,23])\n",
        "filter=[]\n",
        "for x in f_arr:\n",
        "  if x%2==0:\n",
        "    filter.append(True)\n",
        "  else:\n",
        "    filter.append(False)\n",
        "\n",
        "new_filter=f_arr[filter]\n",
        "print(new_filter)\n"
      ],
      "metadata": {
        "colab": {
          "base_uri": "https://localhost:8080/"
        },
        "id": "Fl7Cu5UZuega",
        "outputId": "824fb149-efcf-46ff-e08a-2acc81d2ad5d"
      },
      "execution_count": null,
      "outputs": [
        {
          "output_type": "stream",
          "name": "stdout",
          "text": [
            "[56 90 78]\n"
          ]
        }
      ]
    },
    {
      "cell_type": "markdown",
      "source": [
        "# Creating Random Number and Create Array using Random **Numbers**"
      ],
      "metadata": {
        "id": "lmafsSt4SPez"
      }
    },
    {
      "cell_type": "code",
      "source": [
        "from numpy import random\n",
        "r1=random.rand(5)\n",
        "print('5 float values:')\n",
        "print(r1)\n",
        "\n",
        "r2=random.randint(100,size=5)\n",
        "print('5 intiger values:')\n",
        "print(r2)\n",
        "\n",
        "r3=random.rand(3,4)\n",
        "print('create 2D array using random float values:')\n",
        "print(r3)\n",
        "\n",
        "r4=random.choice([2,3,4,5,6],(3,4))\n",
        "print('create 2D array using random int values:')\n",
        "print(r4)"
      ],
      "metadata": {
        "colab": {
          "base_uri": "https://localhost:8080/"
        },
        "id": "lV08bxVsSZbV",
        "outputId": "0f772f88-5d75-4425-fb38-7f9e2b121290"
      },
      "execution_count": null,
      "outputs": [
        {
          "output_type": "stream",
          "name": "stdout",
          "text": [
            "5 float values:\n",
            "[0.72683647 0.38286052 0.23658942 0.99629055 0.3586331 ]\n",
            "5 intiger values:\n",
            "[62 23 11 19 74]\n",
            "create 2D array using random float values:\n",
            "[[0.63431731 0.50752314 0.2221349  0.41195495]\n",
            " [0.97271646 0.81150202 0.52405795 0.43847835]\n",
            " [0.31598565 0.42227442 0.22889583 0.81461612]]\n",
            "create 2D array using random int values:\n",
            "[[6 6 3 5]\n",
            " [2 6 5 5]\n",
            " [6 4 2 5]]\n"
          ]
        }
      ]
    },
    {
      "cell_type": "markdown",
      "source": [
        "# Plotting **Displot**"
      ],
      "metadata": {
        "id": "ZHsCf69LfOom"
      }
    },
    {
      "cell_type": "code",
      "source": [
        "import matplotlib.pyplot as plt\n",
        "import seaborn as sns\n",
        "\n",
        "sns.displot([0, 1, 2, 3, 4, 5])\n",
        "\n",
        "plt.show()"
      ],
      "metadata": {
        "colab": {
          "base_uri": "https://localhost:8080/",
          "height": 506
        },
        "id": "WwKFF68afSDH",
        "outputId": "1bfc931a-8410-4e84-c63b-eb1ba04e30b2"
      },
      "execution_count": null,
      "outputs": [
        {
          "output_type": "display_data",
          "data": {
            "text/plain": [
              "<Figure size 500x500 with 1 Axes>"
            ],
            "image/png": "[encoded data removed]"
          },
          "metadata": {}
        }
      ]
    },
    {
      "cell_type": "markdown",
      "source": [
        "# Arithmetic **Operations**"
      ],
      "metadata": {
        "id": "4Hw8XkiZh4w_"
      }
    },
    {
      "cell_type": "code",
      "source": [
        "s1=np.array([1,2,4,5])\n",
        "s2=np.array([4,6,8,9])\n",
        "\n",
        "sum=np.add(s1,s2)\n",
        "print('Sum of two arrays:',sum)\n",
        "\n",
        "subtract=np.subtract(s2,s1)\n",
        "print(' Subtraction of two arrays:',subtract)\n",
        "\n",
        "mul=np.multiply(s1,s2)\n",
        "print(' Multiplication of two arrays:',mul)\n",
        "\n",
        "div=np.divide(s2,s1)\n",
        "print(' Division of two arrays:',div)\n",
        "\n",
        "power=np.power(s2,s1)\n",
        "print('Ans:',power)\n",
        "\n",
        "mod=np.mod(s2,s1)\n",
        "print('Mod is:',mod)\n",
        "\n",
        "cumulatitive=np.cumsum(s1)\n",
        "print('Cumulative sum is:',cumulatitive)"
      ],
      "metadata": {
        "colab": {
          "base_uri": "https://localhost:8080/"
        },
        "id": "c6BtdpsXh8MZ",
        "outputId": "b9a0b618-5946-4179-8aa3-500f81ac6aaa"
      },
      "execution_count": null,
      "outputs": [
        {
          "output_type": "stream",
          "name": "stdout",
          "text": [
            "Sum of two arrays: [ 5  8 12 14]\n",
            " Subtraction of two arrays: [3 4 4 4]\n",
            " Multiplication of two arrays: [ 4 12 32 45]\n",
            " Division of two arrays: [4.  3.  2.  1.8]\n",
            "Ans: [    4    36  4096 59049]\n",
            "Mod is: [0 0 0 4]\n",
            "Cumulative sum is: [ 1  3  7 12]\n"
          ]
        }
      ]
    }
  ]
}